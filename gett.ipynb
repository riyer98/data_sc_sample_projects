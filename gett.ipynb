{
 "cells": [
  {
   "cell_type": "code",
   "execution_count": 235,
   "metadata": {},
   "outputs": [],
   "source": [
    "import pandas as pd\n",
    "import numpy as np\n",
    "import matplotlib.pyplot as plt"
   ]
  },
  {
   "cell_type": "code",
   "execution_count": 239,
   "metadata": {},
   "outputs": [
    {
     "name": "stderr",
     "output_type": "stream",
     "text": [
      "/var/folders/cf/fjb92b0918nc2t9gbstsxh_m0000gp/T/ipykernel_850/480720021.py:3: UserWarning: Could not infer format, so each element will be parsed individually, falling back to `dateutil`. To ensure parsing is consistent and as-expected, please specify a format.\n",
      "  orders['order_datetime']=pd.to_datetime(orders['order_datetime'])\n"
     ]
    },
    {
     "name": "stdout",
     "output_type": "stream",
     "text": [
      "(10716, 8) (334363, 2)\n"
     ]
    }
   ],
   "source": [
    "orders = pd.read_csv('datasets-2/data_orders.csv')\n",
    "offers = pd.read_csv('datasets-2/data_offers.csv')\n",
    "orders['order_datetime']=pd.to_datetime(orders['order_datetime'])\n",
    "print(orders.shape,offers.shape)"
   ]
  },
  {
   "cell_type": "code",
   "execution_count": 240,
   "metadata": {},
   "outputs": [
    {
     "data": {
      "text/html": [
       "<div>\n",
       "<style scoped>\n",
       "    .dataframe tbody tr th:only-of-type {\n",
       "        vertical-align: middle;\n",
       "    }\n",
       "\n",
       "    .dataframe tbody tr th {\n",
       "        vertical-align: top;\n",
       "    }\n",
       "\n",
       "    .dataframe thead th {\n",
       "        text-align: right;\n",
       "    }\n",
       "</style>\n",
       "<table border=\"1\" class=\"dataframe\">\n",
       "  <thead>\n",
       "    <tr style=\"text-align: right;\">\n",
       "      <th></th>\n",
       "      <th>order_datetime</th>\n",
       "      <th>origin_longitude</th>\n",
       "      <th>origin_latitude</th>\n",
       "      <th>m_order_eta</th>\n",
       "      <th>order_gk</th>\n",
       "      <th>order_status_key</th>\n",
       "      <th>is_driver_assigned_key</th>\n",
       "      <th>cancellations_time_in_seconds</th>\n",
       "    </tr>\n",
       "  </thead>\n",
       "  <tbody>\n",
       "    <tr>\n",
       "      <th>0</th>\n",
       "      <td>2024-10-19 18:08:07</td>\n",
       "      <td>-0.978916</td>\n",
       "      <td>51.456173</td>\n",
       "      <td>60.0</td>\n",
       "      <td>3000583041974</td>\n",
       "      <td>4</td>\n",
       "      <td>1</td>\n",
       "      <td>198.0</td>\n",
       "    </tr>\n",
       "    <tr>\n",
       "      <th>1</th>\n",
       "      <td>2024-10-19 20:57:32</td>\n",
       "      <td>-0.950385</td>\n",
       "      <td>51.456843</td>\n",
       "      <td>NaN</td>\n",
       "      <td>3000583116437</td>\n",
       "      <td>4</td>\n",
       "      <td>0</td>\n",
       "      <td>128.0</td>\n",
       "    </tr>\n",
       "    <tr>\n",
       "      <th>2</th>\n",
       "      <td>2024-10-19 12:07:50</td>\n",
       "      <td>-0.969520</td>\n",
       "      <td>51.455544</td>\n",
       "      <td>477.0</td>\n",
       "      <td>3000582891479</td>\n",
       "      <td>4</td>\n",
       "      <td>1</td>\n",
       "      <td>46.0</td>\n",
       "    </tr>\n",
       "    <tr>\n",
       "      <th>3</th>\n",
       "      <td>2024-10-19 13:50:20</td>\n",
       "      <td>-1.054671</td>\n",
       "      <td>51.460544</td>\n",
       "      <td>658.0</td>\n",
       "      <td>3000582941169</td>\n",
       "      <td>4</td>\n",
       "      <td>1</td>\n",
       "      <td>62.0</td>\n",
       "    </tr>\n",
       "    <tr>\n",
       "      <th>4</th>\n",
       "      <td>2024-10-19 21:24:45</td>\n",
       "      <td>-0.967605</td>\n",
       "      <td>51.458236</td>\n",
       "      <td>NaN</td>\n",
       "      <td>3000583140877</td>\n",
       "      <td>9</td>\n",
       "      <td>0</td>\n",
       "      <td>NaN</td>\n",
       "    </tr>\n",
       "  </tbody>\n",
       "</table>\n",
       "</div>"
      ],
      "text/plain": [
       "       order_datetime  origin_longitude  origin_latitude  m_order_eta  \\\n",
       "0 2024-10-19 18:08:07         -0.978916        51.456173         60.0   \n",
       "1 2024-10-19 20:57:32         -0.950385        51.456843          NaN   \n",
       "2 2024-10-19 12:07:50         -0.969520        51.455544        477.0   \n",
       "3 2024-10-19 13:50:20         -1.054671        51.460544        658.0   \n",
       "4 2024-10-19 21:24:45         -0.967605        51.458236          NaN   \n",
       "\n",
       "        order_gk  order_status_key  is_driver_assigned_key  \\\n",
       "0  3000583041974                 4                       1   \n",
       "1  3000583116437                 4                       0   \n",
       "2  3000582891479                 4                       1   \n",
       "3  3000582941169                 4                       1   \n",
       "4  3000583140877                 9                       0   \n",
       "\n",
       "   cancellations_time_in_seconds  \n",
       "0                          198.0  \n",
       "1                          128.0  \n",
       "2                           46.0  \n",
       "3                           62.0  \n",
       "4                            NaN  "
      ]
     },
     "execution_count": 240,
     "metadata": {},
     "output_type": "execute_result"
    }
   ],
   "source": [
    "orders.head()"
   ]
  },
  {
   "cell_type": "code",
   "execution_count": 246,
   "metadata": {},
   "outputs": [],
   "source": [
    "orders['no_of_orders'] = pd.Series([len(offers[offers['order_gk']==id]) for id in orders['order_gk']])"
   ]
  },
  {
   "cell_type": "code",
   "execution_count": 247,
   "metadata": {},
   "outputs": [],
   "source": [
    "notassn = orders[orders['is_driver_assigned_key']==0]\n",
    "assn = orders[orders['is_driver_assigned_key']==1]"
   ]
  },
  {
   "cell_type": "code",
   "execution_count": 242,
   "metadata": {},
   "outputs": [],
   "source": [
    "nfailed = np.array([len(notassn),len(assn)])"
   ]
  },
  {
   "cell_type": "code",
   "execution_count": 243,
   "metadata": {},
   "outputs": [
    {
     "data": {
      "image/png": "[encoded data removed]",
      "text/plain": [
       "<Figure size 640x480 with 1 Axes>"
      ]
     },
     "metadata": {},
     "output_type": "display_data"
    }
   ],
   "source": [
    "plt.bar(['not_assigned','assigned'],nfailed,width=0.1)\n",
    "plt.show()"
   ]
  },
  {
   "cell_type": "code",
   "execution_count": 244,
   "metadata": {},
   "outputs": [
    {
     "name": "stdout",
     "output_type": "stream",
     "text": [
      "count    4496.000000\n",
      "mean      110.371441\n",
      "std       120.676021\n",
      "min         3.000000\n",
      "25%        38.000000\n",
      "50%        88.000000\n",
      "75%       157.000000\n",
      "max      4097.000000\n",
      "Name: cancellations_time_in_seconds, dtype: float64\n",
      "count    2811.000000\n",
      "mean      233.897901\n",
      "std       292.709718\n",
      "min         6.000000\n",
      "25%        54.000000\n",
      "50%       127.000000\n",
      "75%       296.000000\n",
      "max      4303.000000\n",
      "Name: cancellations_time_in_seconds, dtype: float64\n"
     ]
    }
   ],
   "source": [
    "print(notassn['cancellations_time_in_seconds'].describe())\n",
    "print(assn['cancellations_time_in_seconds'].describe())"
   ]
  },
  {
   "cell_type": "code",
   "execution_count": 278,
   "metadata": {},
   "outputs": [
    {
     "data": {
      "text/plain": [
       "count    0.0\n",
       "mean     NaN\n",
       "std      NaN\n",
       "min      NaN\n",
       "25%      NaN\n",
       "50%      NaN\n",
       "75%      NaN\n",
       "max      NaN\n",
       "Name: cancellations_time_in_seconds, dtype: float64"
      ]
     },
     "execution_count": 278,
     "metadata": {},
     "output_type": "execute_result"
    }
   ],
   "source": [
    "orders[orders['order_status_key']==9]['cancellations_time_in_seconds'].describe()"
   ]
  },
  {
   "cell_type": "code",
   "execution_count": 291,
   "metadata": {},
   "outputs": [
    {
     "data": {
      "text/html": [
       "<div>\n",
       "<style scoped>\n",
       "    .dataframe tbody tr th:only-of-type {\n",
       "        vertical-align: middle;\n",
       "    }\n",
       "\n",
       "    .dataframe tbody tr th {\n",
       "        vertical-align: top;\n",
       "    }\n",
       "\n",
       "    .dataframe thead th {\n",
       "        text-align: right;\n",
       "    }\n",
       "</style>\n",
       "<table border=\"1\" class=\"dataframe\">\n",
       "  <thead>\n",
       "    <tr style=\"text-align: right;\">\n",
       "      <th></th>\n",
       "      <th>order_datetime</th>\n",
       "      <th>origin_longitude</th>\n",
       "      <th>origin_latitude</th>\n",
       "      <th>m_order_eta</th>\n",
       "      <th>order_gk</th>\n",
       "      <th>order_status_key</th>\n",
       "      <th>is_driver_assigned_key</th>\n",
       "      <th>cancellations_time_in_seconds</th>\n",
       "      <th>no_of_orders</th>\n",
       "    </tr>\n",
       "  </thead>\n",
       "  <tbody>\n",
       "    <tr>\n",
       "      <th>1</th>\n",
       "      <td>2024-10-19 20:57:32</td>\n",
       "      <td>-0.950385</td>\n",
       "      <td>51.456843</td>\n",
       "      <td>NaN</td>\n",
       "      <td>3000583116437</td>\n",
       "      <td>4</td>\n",
       "      <td>0</td>\n",
       "      <td>128.0</td>\n",
       "      <td>3</td>\n",
       "    </tr>\n",
       "    <tr>\n",
       "      <th>9</th>\n",
       "      <td>2024-10-19 06:33:52</td>\n",
       "      <td>-0.976216</td>\n",
       "      <td>51.433202</td>\n",
       "      <td>NaN</td>\n",
       "      <td>3000582765616</td>\n",
       "      <td>4</td>\n",
       "      <td>0</td>\n",
       "      <td>78.0</td>\n",
       "      <td>1</td>\n",
       "    </tr>\n",
       "    <tr>\n",
       "      <th>10</th>\n",
       "      <td>2024-10-19 15:40:15</td>\n",
       "      <td>-0.934670</td>\n",
       "      <td>51.447065</td>\n",
       "      <td>NaN</td>\n",
       "      <td>3000582991062</td>\n",
       "      <td>4</td>\n",
       "      <td>0</td>\n",
       "      <td>167.0</td>\n",
       "      <td>8</td>\n",
       "    </tr>\n",
       "    <tr>\n",
       "      <th>11</th>\n",
       "      <td>2024-10-19 20:59:35</td>\n",
       "      <td>-0.972735</td>\n",
       "      <td>51.452489</td>\n",
       "      <td>NaN</td>\n",
       "      <td>3000583116472</td>\n",
       "      <td>4</td>\n",
       "      <td>0</td>\n",
       "      <td>45.0</td>\n",
       "      <td>3</td>\n",
       "    </tr>\n",
       "    <tr>\n",
       "      <th>12</th>\n",
       "      <td>2024-10-19 06:25:31</td>\n",
       "      <td>-0.958791</td>\n",
       "      <td>51.459481</td>\n",
       "      <td>NaN</td>\n",
       "      <td>3000582765488</td>\n",
       "      <td>4</td>\n",
       "      <td>0</td>\n",
       "      <td>79.0</td>\n",
       "      <td>2</td>\n",
       "    </tr>\n",
       "    <tr>\n",
       "      <th>...</th>\n",
       "      <td>...</td>\n",
       "      <td>...</td>\n",
       "      <td>...</td>\n",
       "      <td>...</td>\n",
       "      <td>...</td>\n",
       "      <td>...</td>\n",
       "      <td>...</td>\n",
       "      <td>...</td>\n",
       "      <td>...</td>\n",
       "    </tr>\n",
       "    <tr>\n",
       "      <th>10709</th>\n",
       "      <td>2024-10-19 12:44:11</td>\n",
       "      <td>-0.975372</td>\n",
       "      <td>51.457846</td>\n",
       "      <td>NaN</td>\n",
       "      <td>3000597886155</td>\n",
       "      <td>4</td>\n",
       "      <td>0</td>\n",
       "      <td>43.0</td>\n",
       "      <td>1</td>\n",
       "    </tr>\n",
       "    <tr>\n",
       "      <th>10710</th>\n",
       "      <td>2024-10-19 12:42:52</td>\n",
       "      <td>-0.975372</td>\n",
       "      <td>51.457846</td>\n",
       "      <td>NaN</td>\n",
       "      <td>3000597886140</td>\n",
       "      <td>4</td>\n",
       "      <td>0</td>\n",
       "      <td>44.0</td>\n",
       "      <td>1</td>\n",
       "    </tr>\n",
       "    <tr>\n",
       "      <th>10711</th>\n",
       "      <td>2024-10-19 13:11:35</td>\n",
       "      <td>-0.975372</td>\n",
       "      <td>51.457846</td>\n",
       "      <td>NaN</td>\n",
       "      <td>3000599186906</td>\n",
       "      <td>4</td>\n",
       "      <td>0</td>\n",
       "      <td>36.0</td>\n",
       "      <td>1</td>\n",
       "    </tr>\n",
       "    <tr>\n",
       "      <th>10712</th>\n",
       "      <td>2024-10-19 13:13:55</td>\n",
       "      <td>-0.975372</td>\n",
       "      <td>51.457846</td>\n",
       "      <td>NaN</td>\n",
       "      <td>3000599186962</td>\n",
       "      <td>4</td>\n",
       "      <td>0</td>\n",
       "      <td>4.0</td>\n",
       "      <td>0</td>\n",
       "    </tr>\n",
       "    <tr>\n",
       "      <th>10714</th>\n",
       "      <td>2024-10-19 13:16:28</td>\n",
       "      <td>-0.975372</td>\n",
       "      <td>51.457846</td>\n",
       "      <td>NaN</td>\n",
       "      <td>3000599187024</td>\n",
       "      <td>4</td>\n",
       "      <td>0</td>\n",
       "      <td>6.0</td>\n",
       "      <td>0</td>\n",
       "    </tr>\n",
       "  </tbody>\n",
       "</table>\n",
       "<p>4496 rows × 9 columns</p>\n",
       "</div>"
      ],
      "text/plain": [
       "           order_datetime  origin_longitude  origin_latitude  m_order_eta  \\\n",
       "1     2024-10-19 20:57:32         -0.950385        51.456843          NaN   \n",
       "9     2024-10-19 06:33:52         -0.976216        51.433202          NaN   \n",
       "10    2024-10-19 15:40:15         -0.934670        51.447065          NaN   \n",
       "11    2024-10-19 20:59:35         -0.972735        51.452489          NaN   \n",
       "12    2024-10-19 06:25:31         -0.958791        51.459481          NaN   \n",
       "...                   ...               ...              ...          ...   \n",
       "10709 2024-10-19 12:44:11         -0.975372        51.457846          NaN   \n",
       "10710 2024-10-19 12:42:52         -0.975372        51.457846          NaN   \n",
       "10711 2024-10-19 13:11:35         -0.975372        51.457846          NaN   \n",
       "10712 2024-10-19 13:13:55         -0.975372        51.457846          NaN   \n",
       "10714 2024-10-19 13:16:28         -0.975372        51.457846          NaN   \n",
       "\n",
       "            order_gk  order_status_key  is_driver_assigned_key  \\\n",
       "1      3000583116437                 4                       0   \n",
       "9      3000582765616                 4                       0   \n",
       "10     3000582991062                 4                       0   \n",
       "11     3000583116472                 4                       0   \n",
       "12     3000582765488                 4                       0   \n",
       "...              ...               ...                     ...   \n",
       "10709  3000597886155                 4                       0   \n",
       "10710  3000597886140                 4                       0   \n",
       "10711  3000599186906                 4                       0   \n",
       "10712  3000599186962                 4                       0   \n",
       "10714  3000599187024                 4                       0   \n",
       "\n",
       "       cancellations_time_in_seconds  no_of_orders  \n",
       "1                              128.0             3  \n",
       "9                               78.0             1  \n",
       "10                             167.0             8  \n",
       "11                              45.0             3  \n",
       "12                              79.0             2  \n",
       "...                              ...           ...  \n",
       "10709                           43.0             1  \n",
       "10710                           44.0             1  \n",
       "10711                           36.0             1  \n",
       "10712                            4.0             0  \n",
       "10714                            6.0             0  \n",
       "\n",
       "[4496 rows x 9 columns]"
      ]
     },
     "execution_count": 291,
     "metadata": {},
     "output_type": "execute_result"
    }
   ],
   "source": [
    "orders[(orders['is_driver_assigned_key']==0) & (orders['order_status_key']==4)]"
   ]
  },
  {
   "cell_type": "code",
   "execution_count": 290,
   "metadata": {},
   "outputs": [
    {
     "data": {
      "text/html": [
       "<div>\n",
       "<style scoped>\n",
       "    .dataframe tbody tr th:only-of-type {\n",
       "        vertical-align: middle;\n",
       "    }\n",
       "\n",
       "    .dataframe tbody tr th {\n",
       "        vertical-align: top;\n",
       "    }\n",
       "\n",
       "    .dataframe thead th {\n",
       "        text-align: right;\n",
       "    }\n",
       "</style>\n",
       "<table border=\"1\" class=\"dataframe\">\n",
       "  <thead>\n",
       "    <tr style=\"text-align: right;\">\n",
       "      <th></th>\n",
       "      <th>order_datetime</th>\n",
       "      <th>origin_longitude</th>\n",
       "      <th>origin_latitude</th>\n",
       "      <th>m_order_eta</th>\n",
       "      <th>order_gk</th>\n",
       "      <th>order_status_key</th>\n",
       "      <th>is_driver_assigned_key</th>\n",
       "      <th>cancellations_time_in_seconds</th>\n",
       "      <th>no_of_orders</th>\n",
       "    </tr>\n",
       "  </thead>\n",
       "  <tbody>\n",
       "    <tr>\n",
       "      <th>1158</th>\n",
       "      <td>2024-10-19 16:49:55</td>\n",
       "      <td>-0.974337</td>\n",
       "      <td>51.465422</td>\n",
       "      <td>418.0</td>\n",
       "      <td>3000631256425</td>\n",
       "      <td>9</td>\n",
       "      <td>1</td>\n",
       "      <td>NaN</td>\n",
       "      <td>0</td>\n",
       "    </tr>\n",
       "    <tr>\n",
       "      <th>6881</th>\n",
       "      <td>2024-10-19 00:44:03</td>\n",
       "      <td>-0.973348</td>\n",
       "      <td>51.453919</td>\n",
       "      <td>60.0</td>\n",
       "      <td>3000630156338</td>\n",
       "      <td>9</td>\n",
       "      <td>1</td>\n",
       "      <td>NaN</td>\n",
       "      <td>1</td>\n",
       "    </tr>\n",
       "    <tr>\n",
       "      <th>7968</th>\n",
       "      <td>2024-10-19 00:12:02</td>\n",
       "      <td>-0.974735</td>\n",
       "      <td>51.454823</td>\n",
       "      <td>298.0</td>\n",
       "      <td>3000600112433</td>\n",
       "      <td>9</td>\n",
       "      <td>1</td>\n",
       "      <td>NaN</td>\n",
       "      <td>3</td>\n",
       "    </tr>\n",
       "  </tbody>\n",
       "</table>\n",
       "</div>"
      ],
      "text/plain": [
       "          order_datetime  origin_longitude  origin_latitude  m_order_eta  \\\n",
       "1158 2024-10-19 16:49:55         -0.974337        51.465422        418.0   \n",
       "6881 2024-10-19 00:44:03         -0.973348        51.453919         60.0   \n",
       "7968 2024-10-19 00:12:02         -0.974735        51.454823        298.0   \n",
       "\n",
       "           order_gk  order_status_key  is_driver_assigned_key  \\\n",
       "1158  3000631256425                 9                       1   \n",
       "6881  3000630156338                 9                       1   \n",
       "7968  3000600112433                 9                       1   \n",
       "\n",
       "      cancellations_time_in_seconds  no_of_orders  \n",
       "1158                            NaN             0  \n",
       "6881                            NaN             1  \n",
       "7968                            NaN             3  "
      ]
     },
     "execution_count": 290,
     "metadata": {},
     "output_type": "execute_result"
    }
   ],
   "source": [
    "orders[(orders['is_driver_assigned_key']==1) & (orders['cancellations_time_in_seconds'].isna())]"
   ]
  },
  {
   "cell_type": "code",
   "execution_count": 207,
   "metadata": {},
   "outputs": [
    {
     "data": {
      "image/png": "[encoded data removed]",
      "text/plain": [
       "<Figure size 1000x750 with 1 Axes>"
      ]
     },
     "metadata": {},
     "output_type": "display_data"
    }
   ],
   "source": [
    "plt.figure(figsize=(10,7.5))\n",
    "plt.hist(assn['cancellations_time_in_seconds'],bins=50)\n",
    "plt.show()"
   ]
  },
  {
   "cell_type": "code",
   "execution_count": 248,
   "metadata": {},
   "outputs": [],
   "source": [
    "waitratio=assn['cancellations_time_in_seconds']/assn['m_order_eta']"
   ]
  },
  {
   "cell_type": "code",
   "execution_count": 249,
   "metadata": {},
   "outputs": [
    {
     "data": {
      "text/plain": [
       "count    2811.000000\n",
       "mean        1.038561\n",
       "std         2.297841\n",
       "min         0.013915\n",
       "25%         0.127119\n",
       "50%         0.321561\n",
       "75%         1.140080\n",
       "max        61.616667\n",
       "dtype: float64"
      ]
     },
     "execution_count": 249,
     "metadata": {},
     "output_type": "execute_result"
    }
   ],
   "source": [
    "waitratio.describe()"
   ]
  },
  {
   "cell_type": "code",
   "execution_count": 250,
   "metadata": {},
   "outputs": [
    {
     "data": {
      "image/png": "[encoded data removed]",
      "text/plain": [
       "<Figure size 1000x750 with 1 Axes>"
      ]
     },
     "metadata": {},
     "output_type": "display_data"
    }
   ],
   "source": [
    "plt.figure(figsize=(10,7.5))\n",
    "plt.hist(notassn['cancellations_time_in_seconds'],bins=50)\n",
    "plt.show()"
   ]
  },
  {
   "cell_type": "code",
   "execution_count": 251,
   "metadata": {},
   "outputs": [],
   "source": [
    "notassn = notassn.drop(notassn.query('cancellations_time_in_seconds>1000').index)\n",
    "assn = assn.drop(assn.query('cancellations_time_in_seconds>1500').index)"
   ]
  },
  {
   "cell_type": "code",
   "execution_count": 252,
   "metadata": {},
   "outputs": [],
   "source": [
    "avgcanceltimes1= np.array([assn[(assn['order_datetime']>= pd.to_datetime('%d:00:00'%(i))) & (assn['order_datetime']<=pd.to_datetime('%d:59:59'%(i)))]['cancellations_time_in_seconds'].mean() for i in range(24)])\n",
    "avgcanceltimes0= np.array([notassn[(notassn['order_datetime']>= pd.to_datetime('%d:00:00'%(i))) & (notassn['order_datetime']<=pd.to_datetime('%d:59:59'%(i)))]['cancellations_time_in_seconds'].mean() for i in range(24)])"
   ]
  },
  {
   "cell_type": "code",
   "execution_count": 260,
   "metadata": {},
   "outputs": [],
   "source": [
    "hours = ['%d-%d'%(i,i+1) for i in range(24)]"
   ]
  },
  {
   "cell_type": "code",
   "execution_count": 261,
   "metadata": {},
   "outputs": [
    {
     "data": {
      "image/png": "[encoded data removed]",
      "text/plain": [
       "<Figure size 2000x1500 with 2 Axes>"
      ]
     },
     "metadata": {},
     "output_type": "display_data"
    }
   ],
   "source": [
    "f,ax = plt.subplots(nrows=2,ncols=1,figsize=(20,15))\n",
    "ax[0].bar(hours,avgcanceltimes0,width=0.2)\n",
    "ax[0].set_title('Driver Not Assigned')\n",
    "ax[1].bar(hours,avgcanceltimes1,width= 0.2)\n",
    "ax[1].set_title('Driver Assigned')\n",
    "plt.show()"
   ]
  },
  {
   "cell_type": "code",
   "execution_count": 256,
   "metadata": {},
   "outputs": [],
   "source": [
    "avgeta = np.array([assn[(assn['order_datetime']>= pd.to_datetime('%d:00:00'%(i))) & (assn['order_datetime']<=pd.to_datetime('%d:59:59'%(i)))]['m_order_eta'].mean() for i in range(24)])"
   ]
  },
  {
   "cell_type": "code",
   "execution_count": 257,
   "metadata": {},
   "outputs": [
    {
     "data": {
      "image/png": "[encoded data removed]",
      "text/plain": [
       "<Figure size 2000x750 with 1 Axes>"
      ]
     },
     "metadata": {},
     "output_type": "display_data"
    }
   ],
   "source": [
    "plt.figure(figsize=(20,7.5))\n",
    "plt.bar(hours,avgeta,width = 0.2)\n",
    "plt.show()"
   ]
  },
  {
   "cell_type": "code",
   "execution_count": 258,
   "metadata": {},
   "outputs": [
    {
     "data": {
      "text/plain": [
       "count    2797.000000\n",
       "mean        2.971398\n",
       "std         2.536128\n",
       "min         0.000000\n",
       "25%         1.000000\n",
       "50%         3.000000\n",
       "75%         4.000000\n",
       "max         9.000000\n",
       "Name: no_of_orders, dtype: float64"
      ]
     },
     "execution_count": 258,
     "metadata": {},
     "output_type": "execute_result"
    }
   ],
   "source": [
    "assn['no_of_orders'].describe()"
   ]
  },
  {
   "cell_type": "code",
   "execution_count": 259,
   "metadata": {},
   "outputs": [
    {
     "data": {
      "text/plain": [
       "-0.03972730227363152"
      ]
     },
     "execution_count": 259,
     "metadata": {},
     "output_type": "execute_result"
    }
   ],
   "source": [
    "assn['m_order_eta'].corr(assn['cancellations_time_in_seconds'])"
   ]
  }
 ],
 "metadata": {
  "kernelspec": {
   "display_name": "myenv",
   "language": "python",
   "name": "myenv"
  },
  "language_info": {
   "codemirror_mode": {
    "name": "ipython",
    "version": 3
   },
   "file_extension": ".py",
   "mimetype": "text/x-python",
   "name": "python",
   "nbconvert_exporter": "python",
   "pygments_lexer": "ipython3",
   "version": "3.9.6"
  }
 },
 "nbformat": 4,
 "nbformat_minor": 2
}
